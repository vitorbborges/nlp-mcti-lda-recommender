{
 "cells": [
  {
   "cell_type": "code",
   "execution_count": 1,
   "metadata": {},
   "outputs": [
    {
     "name": "stdout",
     "output_type": "stream",
     "text": [
      "Running on local URL:  http://127.0.0.1:7860\n",
      "\n",
      "To create a public link, set `share=True` in `launch()`.\n"
     ]
    },
    {
     "data": {
      "text/html": [
       "<div><iframe src=\"http://127.0.0.1:7860/\" width=\"100%\" height=\"500\" allow=\"autoplay; camera; microphone; clipboard-read; clipboard-write;\" frameborder=\"0\" allowfullscreen></iframe></div>"
      ],
      "text/plain": [
       "<IPython.core.display.HTML object>"
      ]
     },
     "metadata": {},
     "output_type": "display_data"
    },
    {
     "name": "stderr",
     "output_type": "stream",
     "text": [
      "C:\\Users\\vitor\\AppData\\Local\\Temp\\ipykernel_4948\\144729803.py:19: FutureWarning: The frame.append method is deprecated and will be removed from pandas in a future version. Use pandas.concat instead.\n",
      "  simulation = simulation.append({'userID': userID, 'itemID': opo_n, 'rating': inp}, ignore_index=True)\n",
      "C:\\Users\\vitor\\AppData\\Local\\Temp\\ipykernel_4948\\144729803.py:19: FutureWarning: The frame.append method is deprecated and will be removed from pandas in a future version. Use pandas.concat instead.\n",
      "  simulation = simulation.append({'userID': userID, 'itemID': opo_n, 'rating': inp}, ignore_index=True)\n",
      "C:\\Users\\vitor\\AppData\\Local\\Temp\\ipykernel_4948\\144729803.py:19: FutureWarning: The frame.append method is deprecated and will be removed from pandas in a future version. Use pandas.concat instead.\n",
      "  simulation = simulation.append({'userID': userID, 'itemID': opo_n, 'rating': inp}, ignore_index=True)\n",
      "C:\\Users\\vitor\\AppData\\Local\\Temp\\ipykernel_4948\\144729803.py:19: FutureWarning: The frame.append method is deprecated and will be removed from pandas in a future version. Use pandas.concat instead.\n",
      "  simulation = simulation.append({'userID': userID, 'itemID': opo_n, 'rating': inp}, ignore_index=True)\n",
      "C:\\Users\\vitor\\AppData\\Local\\Temp\\ipykernel_4948\\144729803.py:19: FutureWarning: The frame.append method is deprecated and will be removed from pandas in a future version. Use pandas.concat instead.\n",
      "  simulation = simulation.append({'userID': userID, 'itemID': opo_n, 'rating': inp}, ignore_index=True)\n",
      "C:\\Users\\vitor\\AppData\\Local\\Temp\\ipykernel_4948\\144729803.py:19: FutureWarning: The frame.append method is deprecated and will be removed from pandas in a future version. Use pandas.concat instead.\n",
      "  simulation = simulation.append({'userID': userID, 'itemID': opo_n, 'rating': inp}, ignore_index=True)\n"
     ]
    }
   ],
   "source": [
    "import gradio as gr\n",
    "import random\n",
    "import pandas as pd\n",
    "\n",
    "opo = pd.read_csv('oportunidades.csv')\n",
    "simulation = pd.read_csv('simulation1.csv')\n",
    "userID = max(simulation['userID']) + 1\n",
    "\n",
    "opo_n = random.randrange(len(opo))\n",
    "evaluated = [opo_n]\n",
    "\n",
    "def predict_next(inp):\n",
    "    global userID\n",
    "    global opo_n\n",
    "    global evaluated\n",
    "    global opo\n",
    "    global simulation\n",
    "\n",
    "    simulation = simulation.append({'userID': userID, 'itemID': opo_n, 'rating': inp}, ignore_index=True)\n",
    "    evaluated.append(opo_n)\n",
    "    \n",
    "    from surprise import Reader\n",
    "    reader = Reader(rating_scale=(1, 5))\n",
    "\n",
    "    from surprise import Dataset\n",
    "    data = Dataset.load_from_df(simulation[['userID', 'itemID', 'rating']], reader)\n",
    "    trainset = data.build_full_trainset()\n",
    "\n",
    "    from surprise import SVDpp\n",
    "    svdpp = SVDpp()\n",
    "    svdpp.fit(trainset)\n",
    "\n",
    "    items = list()\n",
    "    est = list()\n",
    "\n",
    "    for i in range(len(opo)):\n",
    "        if i not in evaluated:\n",
    "            items.append(i)\n",
    "            est.append(svdpp.predict(userID, i).est)\n",
    "    \n",
    "    opo_n = items[est.index(max(est))]\n",
    "    return opo.loc[opo_n]['opo_texto']\n",
    "\n",
    "with gr.Blocks() as demo:\n",
    "    gr.Markdown(\"# MCTI Recommender System\")\n",
    "    \n",
    "    current_opo = gr.Textbox(opo.loc[opo_n]['opo_texto'], label='Oportunidade')\n",
    "    nota = gr.Slider(1,5,step=1,label=\"Nota\")\n",
    "    confirm = gr.Button(\"Confirmar\")\n",
    "\n",
    "    confirm.click(fn=predict_next,\n",
    "               inputs=nota,\n",
    "               outputs=current_opo)\n",
    "\n",
    "if __name__ == \"__main__\":\n",
    "    demo.launch() "
   ]
  },
  {
   "cell_type": "code",
   "execution_count": 12,
   "metadata": {},
   "outputs": [
    {
     "name": "stdout",
     "output_type": "stream",
     "text": [
      "556\n"
     ]
    }
   ],
   "source": [
    "import pandas as pd\n",
    "\n",
    "summary = pd.read_csv('mcti_data_oportunidades_bart.csv')\n",
    "print(len(summary))\n",
    "opo = pd.read_csv('oportunidades.csv')[['codigo', 'opo_texto','link', 'opo_titulo']].rename(columns={'opo_texto': 'source'})\n",
    "\n",
    "# summary = pd.merge(summary, opo, left_on='source', right_on='source')\n",
    "# summary"
   ]
  },
  {
   "cell_type": "code",
   "execution_count": 16,
   "metadata": {},
   "outputs": [
    {
     "data": {
      "text/plain": [
       "\"Scholarship and Application The purpose of the Cargill Global Scholars Program is to build a global network of future leaders who will one day make important contributions to advance business, agriculture and food security. In addition to financial support, students receive leadership development training, one-on-one mentoring to equip them with the necessary tools become future global leaders, decision makers, and influencers, and membership in the alumni community to maintain and create connections. The Cargill Global Scholars Program provides financial support and leadership development opportunities to undergraduate students from around the world. Scholarships will be awarded to talented, high performing students pursuing studies in such fields as agriculture, food, biological sciences, technology, engineering, international relations, sustainability, and business. Why Apply? The Cargill Global Scholars Program is more than just a traditional scholarship program - it's a global program that is designed to foster and enhance leadership potential and critical thinking skills, creating a global network for scholars to become the next generation of global leaders, decision makers, visionaries, and socially conscious innovators. Scholarship Benefits Each Cargill Global Scholar will: Receive an annual scholarship award for up to two years, to help off-set any academic related expenses. Participate in a fully-funded In-Country Leadership Seminar (Year 1) and Global Leadership Seminar (Year 2) with fellow scholars from around the world. Receive mentorship from Cargill employees to help the scholars identify short and long term academic and professional goals, working one-on-one with mentors to reach these goals through networking and ongoing communications. Participate in a series of experiential learning modules, including leadership development training, coupled with networking opportunities with Cargill executives. Become a member of the Cargill Global Scholars Alumni community. Cargill Global Scholars are high performing undergraduate university students in Brazil, China, India, Indonesia, Russia or the United States, studying in a field that relates to Cargill's business goals of providing innovative solutions to meet today's economic, environmental and societal challenges. Who Can Apply? Applicants to the Cargill Global Scholars program must: Be a citizen or permanent legal resident of Brazil, China, India, Indonesia, Russia or the United States Attend a partner university in the country of citizenship or permanent legal residency Be a full-time undergraduate university student (see country specific details for eligible years of study on the FAQ pages for Brazil, China, India, Indonesia, Russia or the United States) Demonstrate high academic performance Demonstrate leadership potential Preference will be given to applicants who: Specialize in fields of study that are identified as preferred fields (see each country's guidelines) Are from an underrepresented group within their country May demonstrate financial need For more information about the specific requirements and preferences for applicants in your country and your eligibility to become a Cargill Global Scholar, please visit the FAQ page. Requirements Applicants must meet all eligibility requirements noted for their country to be considered for the Cargill Global Scholars Program. Documentation required for your application will based on the requirements of each country's application. Upon acceptance into the Cargill Global Scholars Program, students must: Adhere to the Cargill Global Scholars Code of Conduct and Terms of Award guidelines. Successfully complete both the In-Country (Year 1) and Global Leadership Seminars (Year 2). Participate in the mentorship program by communicating with their assigned Cargill Mentor, Cargill Staff and IIE Staff. Maintain full-time enrollment at the partner university you attend, as well as meet a specific overall academic GPA standard. In-Country Leadership Seminar: In the first year of the Global Scholars Program, scholars from each country participate in the In-Country Seminar focusing on leadership development, team building, mentorship and in-depth overview of Cargill. Scholars will sharpen leadership development of interpersonal skills and leverage opportunities for network building with fellow scholars and Cargill leaders. Global Leadership Seminar: In the second year of the Global Scholars Program, scholars from all six of the participating countries come together and receive a more in-depth view into Cargill and a continuation of their leadership development training. Each scholar will participate in a team project that overviews Cargill's businesses and products in a specific country and will receive a mentor from another country in their area of study to further enhance their global mindset. Cargill Global Scholars Program Application Thank you for your interest in the Cargill Global Scholars Program. To apply for the 2020-2021 application cycle, please select the link below based on your program country of eligibility. Please visit the country FAQ pages if you have questions regarding country eligibility guidelines. Special instructions for Russian applicants: Please fill out the Consent Form, send its scan to iiemoscow@iie. org and a hard copy of the form with your wet signature to IIEOVERSEAS LLC, office 503A,16 bld. 1, Tverskaya street, Moscow, Russia, 125009. Please note: the application is best viewed using the following web browsers: Google Chrome and Mozilla Firefox. Brazil: https://apply. iie. org/cargillglobalscholars-brazil China: https://apply. iie. org/cargillglobalscholars-china India: https://apply. iie. org/cargillglobalscholars-india Indonesia: https://apply. iie. org/cargillglobalscholars-indonesia Russia: https://apply. iie. org/cargillglobalscholars-russia USA: https://apply. iie. org/cargillglobalscholars-usa\""
      ]
     },
     "execution_count": 16,
     "metadata": {},
     "output_type": "execute_result"
    }
   ],
   "source": [
    "summary.iloc[0]['source']"
   ]
  },
  {
   "cell_type": "code",
   "execution_count": 27,
   "metadata": {},
   "outputs": [
    {
     "data": {
      "text/plain": [
       "'Scholarship and Application The purpose of the Cargill Global Scholars Program is to build a global network of future leaders who will one day make important contributions to advance business, agriculture and food security. In addition to financial support, students receive leadership development training, one-on-one mentoring to equip them with the necessary tools become future global leaders, decision makers, and influencers, and membership in the alumni community to maintain and create connections.The Cargill Global Scholars Program provides financial support and leadership development opportunities to undergraduate students from around the world. Scholarships will be awarded to talented, high performing students pursuing studies in such fields as agriculture, food, biological sciences, technology, engineering, international relations, sustainability, and business. Why Apply? The Cargill Global Scholars Program is more than just a traditional scholarship program – it’s a global program that is designed to foster and enhance leadership potential and critical thinking skills, creating a global network for scholars to become the next generation of global leaders, decision makers, visionaries, and socially conscious innovators. Scholarship Benefits Each Cargill Global Scholar will: Receive an annual scholarship award for up to two years, to help off-set any academic related expenses. Participate in a fully-funded In-Country Leadership Seminar (Year 1) and Global Leadership Seminar (Year 2) with fellow scholars from around the world. Receive mentorship from Cargill employees to help the scholars identify short and long term academic and professional goals, working one-on-one with mentors to reach these goals through networking and ongoing communications. Participate in a series of experiential learning modules, including leadership development training, coupled with networking opportunities with Cargill executives. Become a member of the Cargill Global Scholars Alumni community.Cargill Global Scholars are high performing undergraduate university students in Brazil, China, India, Indonesia, Russia or the United States, studying in a field that relates to Cargill’s business goals of providing innovative solutions to meet today’s economic, environmental and societal challenges. Who Can Apply? Applicants to the Cargill Global Scholars program must: Be a citizen or permanent legal resident of Brazil, China, India, Indonesia, Russia or the United States Attend a partner university in the country of citizenship or permanent legal residency Be a full-time undergraduate university student (see country specific details for eligible years of study on the FAQ pages for Brazil, China, India, Indonesia, Russia or the United States) Demonstrate high academic performance Demonstrate leadership potential Preference will be given to applicants who: Specialize in fields of study that are identified as preferred fields (see each country’s guidelines) Are from an underrepresented group within their country May demonstrate financial need For more information about the specific requirements and preferences for applicants in your country and your eligibility to become a Cargill Global Scholar, please visit the FAQ page. Requirements Applicants must meet all eligibility requirements noted for their country to be considered for the Cargill Global Scholars Program. Documentation required for your application will based on the requirements of each country’s application. Upon acceptance into the Cargill Global Scholars Program, students must: Adhere to the Cargill Global Scholars Code of Conduct and Terms of Award guidelines. Successfully complete both the In-Country (Year 1) and Global Leadership Seminars (Year 2). Participate in the mentorship program by communicating with their assigned Cargill Mentor, Cargill Staff and IIE Staff. Maintain full-time enrollment at the partner university you attend, as well as meet a specific overall academic GPA standard.In-Country Leadership Seminar: In the first year of the Global Scholars Program, scholars from each country participate in the In-Country Seminar focusing on leadership development, team building, mentorship and in-depth overview of Cargill. Scholars will sharpen leadership development of interpersonal skills and leverage opportunities for network building with fellow scholars and Cargill leaders. Global Leadership Seminar: In the second year of the Global Scholars Program, scholars from all six of the participating countries come together and receive a more in-depth view into Cargill and a continuation of their leadership development training. Each scholar will participate in a team project that overviews Cargill’s businesses and products in a specific country and will receive a mentor from another country in their area of study to further enhance their global mindset.Cargill Global Scholars Program Application Thank you for your interest in the Cargill Global Scholars Program. To apply for the 2020-2021 application cycle, please select the link below based on your program country of eligibility. Please visit the country FAQ pages if you have questions regarding country eligibility guidelines. Special instructions for Russian applicants: Please fill out the Consent Form, send its scan to iiemoscow@iie.org and a hard copy of the form with your wet signature to IIEOVERSEAS LLC, office 503A,16 bld.1, Tverskaya street, Moscow, Russia, 125009. Please note: the application is best viewed using the following web browsers: Google Chrome and Mozilla Firefox. Brazil: https://apply.iie.org/cargillglobalscholars-brazil China: https://apply.iie.org/cargillglobalscholars-china India: https://apply.iie.org/cargillglobalscholars-india Indonesia: https://apply.iie.org/cargillglobalscholars-indonesia Russia: https://apply.iie.org/cargillglobalscholars-russia USA: https://apply.iie.org/cargillglobalscholars-usa'"
      ]
     },
     "execution_count": 27,
     "metadata": {},
     "output_type": "execute_result"
    }
   ],
   "source": [
    "opo.iloc[1]['source']"
   ]
  },
  {
   "cell_type": "code",
   "execution_count": 30,
   "metadata": {},
   "outputs": [],
   "source": [
    "import difflib\n",
    "\n",
    "case_a = opo.iloc[1]['source']\n",
    "case_b = summary.iloc[0]['source']\n",
    "\n",
    "output_list = [li for li in difflib.ndiff(case_a, case_b) if li[0] != ' ']"
   ]
  },
  {
   "cell_type": "code",
   "execution_count": 33,
   "metadata": {},
   "outputs": [
    {
     "data": {
      "text/plain": [
       "['+  ',\n",
       " '- –',\n",
       " '+ -',\n",
       " '- ’',\n",
       " \"+ '\",\n",
       " '+  ',\n",
       " '- ’',\n",
       " \"+ '\",\n",
       " '- ’',\n",
       " \"+ '\",\n",
       " '- ’',\n",
       " \"+ '\",\n",
       " '- ’',\n",
       " \"+ '\",\n",
       " '+  ',\n",
       " '- ’',\n",
       " \"+ '\",\n",
       " '+  ',\n",
       " '+  ',\n",
       " '+  ',\n",
       " '+  ',\n",
       " '+  ',\n",
       " '+  ',\n",
       " '+  ',\n",
       " '+  ',\n",
       " '+  ',\n",
       " '+  ',\n",
       " '+  ',\n",
       " '+  ',\n",
       " '+  ',\n",
       " '+  ',\n",
       " '+  ']"
      ]
     },
     "execution_count": 33,
     "metadata": {},
     "output_type": "execute_result"
    }
   ],
   "source": [
    "output_list"
   ]
  },
  {
   "cell_type": "code",
   "execution_count": null,
   "metadata": {},
   "outputs": [],
   "source": []
  }
 ],
 "metadata": {
  "hide_input": false,
  "kernelspec": {
   "display_name": "Python 3",
   "language": "python",
   "name": "python3"
  },
  "language_info": {
   "codemirror_mode": {
    "name": "ipython",
    "version": 3
   },
   "file_extension": ".py",
   "mimetype": "text/x-python",
   "name": "python",
   "nbconvert_exporter": "python",
   "pygments_lexer": "ipython3",
   "version": "3.7.4"
  },
  "varInspector": {
   "cols": {
    "lenName": 16,
    "lenType": 16,
    "lenVar": 40
   },
   "kernels_config": {
    "python": {
     "delete_cmd_postfix": "",
     "delete_cmd_prefix": "del ",
     "library": "var_list.py",
     "varRefreshCmd": "print(var_dic_list())"
    },
    "r": {
     "delete_cmd_postfix": ") ",
     "delete_cmd_prefix": "rm(",
     "library": "var_list.r",
     "varRefreshCmd": "cat(var_dic_list()) "
    }
   },
   "types_to_exclude": [
    "module",
    "function",
    "builtin_function_or_method",
    "instance",
    "_Feature"
   ],
   "window_display": false
  },
  "vscode": {
   "interpreter": {
    "hash": "5fe3e6f0cdaab8afdc61c52912fda83f7c0a71baaea1897dd7498e2df01e69ec"
   }
  }
 },
 "nbformat": 4,
 "nbformat_minor": 2
}
