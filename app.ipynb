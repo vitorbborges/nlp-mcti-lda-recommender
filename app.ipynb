{
 "cells": [
  {
   "cell_type": "code",
   "execution_count": 2,
   "metadata": {},
   "outputs": [
    {
     "name": "stdout",
     "output_type": "stream",
     "text": [
      "Running on local URL:  http://127.0.0.1:7892\n",
      "\n",
      "To create a public link, set `share=True` in `launch()`.\n"
     ]
    },
    {
     "data": {
      "text/html": [
       "<div><iframe src=\"http://127.0.0.1:7892/\" width=\"100%\" height=\"500\" allow=\"autoplay; camera; microphone; clipboard-read; clipboard-write;\" frameborder=\"0\" allowfullscreen></iframe></div>"
      ],
      "text/plain": [
       "<IPython.core.display.HTML object>"
      ]
     },
     "metadata": {},
     "output_type": "display_data"
    }
   ],
   "source": [
    "import gradio as gr\n",
    "import random\n",
    "import pandas as pd\n",
    "\n",
    "opo = pd.read_csv('oportunidades.csv')\n",
    "simulation = pd.read_csv('simulation1.csv')\n",
    "userID = max(simulation['userID']) + 1\n",
    "\n",
    "opo_n = random.randrange(len(opo))\n",
    "evaluated = [opo_n]\n",
    "\n",
    "def predict_next(inp):\n",
    "    global userID\n",
    "    global opo_n\n",
    "    global evaluated\n",
    "    global opo\n",
    "    global simulation\n",
    "\n",
    "    simulation = simulation.append({'userID': userID, 'itemID': opo_n, 'rating': inp}, ignore_index=True)\n",
    "    evaluated.append(opo_n)\n",
    "    \n",
    "    from surprise import Reader\n",
    "    reader = Reader(rating_scale=(1, 5))\n",
    "\n",
    "    from surprise import Dataset\n",
    "    data = Dataset.load_from_df(simulation[['userID', 'itemID', 'rating']], reader)\n",
    "    trainset = data.build_full_trainset()\n",
    "\n",
    "    from surprise import SVDpp\n",
    "    svdpp = SVDpp()\n",
    "    svdpp.fit(trainset)\n",
    "\n",
    "    items = list()\n",
    "    est = list()\n",
    "\n",
    "    for i in range(len(opo)):\n",
    "        if i not in evaluated:\n",
    "            items.append(i)\n",
    "            est.append(svdpp.predict(userID, i).est)\n",
    "    \n",
    "    opo_n = items[est.index(max(est))]\n",
    "    return opo.loc[opo_n]['opo_texto']\n",
    "\n",
    "with gr.Blocks() as demo:\n",
    "    gr.Markdown(\"# MCTI Recommender System\")\n",
    "    \n",
    "    current_opo = gr.Textbox(opo.loc[opo_n]['opo_texto'], label='Oportunidade')\n",
    "    nota = gr.Slider(1,5,step=1,label=\"Nota\")\n",
    "    confirm = gr.Button(\"Confirmar\")\n",
    "\n",
    "    confirm.click(fn=predict_next,\n",
    "               inputs=nota,\n",
    "               outputs=current_opo)\n",
    "\n",
    "if __name__ == \"__main__\":\n",
    "    demo.launch() "
   ]
  }
 ],
 "metadata": {
  "kernelspec": {
   "display_name": "Python 3.10.4 64-bit",
   "language": "python",
   "name": "python3"
  },
  "language_info": {
   "codemirror_mode": {
    "name": "ipython",
    "version": 3
   },
   "file_extension": ".py",
   "mimetype": "text/x-python",
   "name": "python",
   "nbconvert_exporter": "python",
   "pygments_lexer": "ipython3",
   "version": "3.10.4"
  },
  "orig_nbformat": 4,
  "vscode": {
   "interpreter": {
    "hash": "5fe3e6f0cdaab8afdc61c52912fda83f7c0a71baaea1897dd7498e2df01e69ec"
   }
  }
 },
 "nbformat": 4,
 "nbformat_minor": 2
}
