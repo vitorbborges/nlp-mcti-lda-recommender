{
 "cells": [
  {
   "cell_type": "code",
   "execution_count": 4,
   "metadata": {
    "ExecuteTime": {
     "end_time": "2022-12-07T02:48:57.993204Z",
     "start_time": "2022-12-07T02:48:57.959327Z"
    }
   },
   "outputs": [
    {
     "name": "stdout",
     "output_type": "stream",
     "text": [
      "Running on local URL:  http://127.0.0.1:7860\n",
      "\n",
      "To create a public link, set `share=True` in `launch()`.\n"
     ]
    },
    {
     "data": {
      "text/html": [
       "<div><iframe src=\"http://127.0.0.1:7860/\" width=\"100%\" height=\"500\" allow=\"autoplay; camera; microphone; clipboard-read; clipboard-write;\" frameborder=\"0\" allowfullscreen></iframe></div>"
      ],
      "text/plain": [
       "<IPython.core.display.HTML object>"
      ]
     },
     "metadata": {},
     "output_type": "display_data"
    },
    {
     "name": "stderr",
     "output_type": "stream",
     "text": [
      "C:\\Users\\vitor\\AppData\\Local\\Temp\\ipykernel_5048\\977487457.py:41: FutureWarning: The frame.append method is deprecated and will be removed from pandas in a future version. Use pandas.concat instead.\n",
      "  simulation = simulation.append({'userID': userID, 'itemID': selected, 'rating': nota}, ignore_index=True)\n",
      "C:\\Users\\vitor\\AppData\\Local\\Temp\\ipykernel_5048\\977487457.py:41: FutureWarning: The frame.append method is deprecated and will be removed from pandas in a future version. Use pandas.concat instead.\n",
      "  simulation = simulation.append({'userID': userID, 'itemID': selected, 'rating': nota}, ignore_index=True)\n",
      "C:\\Users\\vitor\\AppData\\Local\\Temp\\ipykernel_5048\\977487457.py:41: FutureWarning: The frame.append method is deprecated and will be removed from pandas in a future version. Use pandas.concat instead.\n",
      "  simulation = simulation.append({'userID': userID, 'itemID': selected, 'rating': nota}, ignore_index=True)\n",
      "C:\\Users\\vitor\\AppData\\Local\\Temp\\ipykernel_5048\\977487457.py:41: FutureWarning: The frame.append method is deprecated and will be removed from pandas in a future version. Use pandas.concat instead.\n",
      "  simulation = simulation.append({'userID': userID, 'itemID': selected, 'rating': nota}, ignore_index=True)\n",
      "C:\\Users\\vitor\\AppData\\Local\\Temp\\ipykernel_5048\\977487457.py:41: FutureWarning: The frame.append method is deprecated and will be removed from pandas in a future version. Use pandas.concat instead.\n",
      "  simulation = simulation.append({'userID': userID, 'itemID': selected, 'rating': nota}, ignore_index=True)\n",
      "C:\\Users\\vitor\\AppData\\Local\\Temp\\ipykernel_5048\\977487457.py:41: FutureWarning: The frame.append method is deprecated and will be removed from pandas in a future version. Use pandas.concat instead.\n",
      "  simulation = simulation.append({'userID': userID, 'itemID': selected, 'rating': nota}, ignore_index=True)\n",
      "C:\\Users\\vitor\\AppData\\Local\\Temp\\ipykernel_5048\\977487457.py:41: FutureWarning: The frame.append method is deprecated and will be removed from pandas in a future version. Use pandas.concat instead.\n",
      "  simulation = simulation.append({'userID': userID, 'itemID': selected, 'rating': nota}, ignore_index=True)\n",
      "C:\\Users\\vitor\\AppData\\Local\\Temp\\ipykernel_5048\\977487457.py:41: FutureWarning: The frame.append method is deprecated and will be removed from pandas in a future version. Use pandas.concat instead.\n",
      "  simulation = simulation.append({'userID': userID, 'itemID': selected, 'rating': nota}, ignore_index=True)\n",
      "C:\\Users\\vitor\\AppData\\Local\\Temp\\ipykernel_5048\\977487457.py:41: FutureWarning: The frame.append method is deprecated and will be removed from pandas in a future version. Use pandas.concat instead.\n",
      "  simulation = simulation.append({'userID': userID, 'itemID': selected, 'rating': nota}, ignore_index=True)\n",
      "C:\\Users\\vitor\\AppData\\Local\\Temp\\ipykernel_5048\\977487457.py:41: FutureWarning: The frame.append method is deprecated and will be removed from pandas in a future version. Use pandas.concat instead.\n",
      "  simulation = simulation.append({'userID': userID, 'itemID': selected, 'rating': nota}, ignore_index=True)\n",
      "C:\\Users\\vitor\\AppData\\Local\\Temp\\ipykernel_5048\\977487457.py:41: FutureWarning: The frame.append method is deprecated and will be removed from pandas in a future version. Use pandas.concat instead.\n",
      "  simulation = simulation.append({'userID': userID, 'itemID': selected, 'rating': nota}, ignore_index=True)\n",
      "C:\\Users\\vitor\\AppData\\Local\\Temp\\ipykernel_5048\\977487457.py:41: FutureWarning: The frame.append method is deprecated and will be removed from pandas in a future version. Use pandas.concat instead.\n",
      "  simulation = simulation.append({'userID': userID, 'itemID': selected, 'rating': nota}, ignore_index=True)\n",
      "C:\\Users\\vitor\\AppData\\Local\\Temp\\ipykernel_5048\\977487457.py:41: FutureWarning: The frame.append method is deprecated and will be removed from pandas in a future version. Use pandas.concat instead.\n",
      "  simulation = simulation.append({'userID': userID, 'itemID': selected, 'rating': nota}, ignore_index=True)\n",
      "C:\\Users\\vitor\\AppData\\Local\\Temp\\ipykernel_5048\\977487457.py:41: FutureWarning: The frame.append method is deprecated and will be removed from pandas in a future version. Use pandas.concat instead.\n",
      "  simulation = simulation.append({'userID': userID, 'itemID': selected, 'rating': nota}, ignore_index=True)\n",
      "C:\\Users\\vitor\\AppData\\Local\\Temp\\ipykernel_5048\\977487457.py:41: FutureWarning: The frame.append method is deprecated and will be removed from pandas in a future version. Use pandas.concat instead.\n",
      "  simulation = simulation.append({'userID': userID, 'itemID': selected, 'rating': nota}, ignore_index=True)\n"
     ]
    }
   ],
   "source": [
    "import gradio as gr\n",
    "import random\n",
    "import pandas as pd\n",
    "import numpy as np\n",
    "\n",
    "opo = pd.read_csv('oportunidades_results.csv', lineterminator='\\n')\n",
    "opo = opo.iloc[np.where(opo['opo_brazil']=='Y')]\n",
    "opo.index = range(len(opo))\n",
    "simulation = pd.read_csv('simulation2.csv')\n",
    "userID = max(simulation['userID']) + 1\n",
    "\n",
    "def build_display_text(opo_n):\n",
    "    \n",
    "    title = opo.loc[opo_n]['opo_titulo']\n",
    "    link = opo.loc[opo_n]['link']\n",
    "    summary = opo.loc[opo_n]['facebook-bart-large-cnn_results']\n",
    "\n",
    "    display_text = f\"**{title}**\\n\\nURL:\\n{link}\\n\\nSUMMARY:\\n{summary}\"\n",
    "\n",
    "    return display_text\n",
    "\n",
    "opo_n_one = random.randrange(len(opo))\n",
    "opo_n_two = random.randrange(len(opo))\n",
    "opo_n_three = random.randrange(len(opo))\n",
    "opo_n_four = random.randrange(len(opo))\n",
    "\n",
    "evaluated = []\n",
    "\n",
    "def predict_next(option, nota):\n",
    "    global userID\n",
    "    global opo_n_one\n",
    "    global opo_n_two\n",
    "    global opo_n_three\n",
    "    global opo_n_four\n",
    "    global evaluated\n",
    "    global opo\n",
    "    global simulation\n",
    "\n",
    "    selected = [opo_n_one, opo_n_two, opo_n_three, opo_n_four][int(option)-1]\n",
    "\n",
    "    simulation = simulation.append({'userID': userID, 'itemID': selected, 'rating': nota}, ignore_index=True)\n",
    "    evaluated.append(selected)\n",
    "    \n",
    "    from surprise import Reader\n",
    "    reader = Reader(rating_scale=(1, 5))\n",
    "\n",
    "    from surprise import Dataset\n",
    "    data = Dataset.load_from_df(simulation[['userID', 'itemID', 'rating']], reader)\n",
    "    trainset = data.build_full_trainset()\n",
    "\n",
    "    from surprise import SVDpp\n",
    "    svdpp = SVDpp()\n",
    "    svdpp.fit(trainset)\n",
    "\n",
    "    items = list()\n",
    "    est = list()\n",
    "\n",
    "    for i in range(len(opo)):\n",
    "        if i not in evaluated:\n",
    "            items.append(i)\n",
    "            est.append(svdpp.predict(userID, i).est)\n",
    "\n",
    "    opo_n_one = items[est.index(sorted(est)[-1])]\n",
    "    opo_n_two = items[est.index(sorted(est)[-2])]\n",
    "    opo_n_three = items[est.index(sorted(est)[-3])]\n",
    "    opo_n_four = items[est.index(sorted(est)[-4])]\n",
    "\n",
    "    return build_display_text(opo_n_one), build_display_text(opo_n_two), build_display_text(opo_n_three), build_display_text(opo_n_four)\n",
    "\n",
    "\n",
    "with gr.Blocks() as demo:\n",
    "    with gr.Row():\n",
    "        one_opo = gr.Textbox(build_display_text(opo_n_one), label='Oportunidade 1')\n",
    "        two_opo = gr.Textbox(build_display_text(opo_n_two), label='Oportunidade 2')\n",
    "\n",
    "    with gr.Row():\n",
    "        three_opo = gr.Textbox(build_display_text(opo_n_three), label='Oportunidade 3')\n",
    "        four_opo = gr.Textbox(build_display_text(opo_n_four), label='Oportunidade 4')\n",
    "\n",
    "    with gr.Row():\n",
    "        option = gr.Radio(['1', '2', '3', '4'], label='Opção', value = '1')\n",
    "\n",
    "    with gr.Row():\n",
    "        nota = gr.Slider(1,5,step=1,label=\"Nota 1\")\n",
    "\n",
    "    with gr.Row():\n",
    "        confirm = gr.Button(\"Confirmar\")\n",
    "\n",
    "        confirm.click(fn=predict_next,\n",
    "               inputs=[option, nota],\n",
    "               outputs=[one_opo, two_opo, three_opo, four_opo])\n",
    "\n",
    "if __name__ == \"__main__\":\n",
    "    demo.launch() "
   ]
  }
 ],
 "metadata": {
  "hide_input": false,
  "kernelspec": {
   "display_name": "Python 3",
   "language": "python",
   "name": "python3"
  },
  "language_info": {
   "codemirror_mode": {
    "name": "ipython",
    "version": 3
   },
   "file_extension": ".py",
   "mimetype": "text/x-python",
   "name": "python",
   "nbconvert_exporter": "python",
   "pygments_lexer": "ipython3",
   "version": "3.10.4"
  },
  "varInspector": {
   "cols": {
    "lenName": 16,
    "lenType": 16,
    "lenVar": 40
   },
   "kernels_config": {
    "python": {
     "delete_cmd_postfix": "",
     "delete_cmd_prefix": "del ",
     "library": "var_list.py",
     "varRefreshCmd": "print(var_dic_list())"
    },
    "r": {
     "delete_cmd_postfix": ") ",
     "delete_cmd_prefix": "rm(",
     "library": "var_list.r",
     "varRefreshCmd": "cat(var_dic_list()) "
    }
   },
   "types_to_exclude": [
    "module",
    "function",
    "builtin_function_or_method",
    "instance",
    "_Feature"
   ],
   "window_display": false
  },
  "vscode": {
   "interpreter": {
    "hash": "5fe3e6f0cdaab8afdc61c52912fda83f7c0a71baaea1897dd7498e2df01e69ec"
   }
  }
 },
 "nbformat": 4,
 "nbformat_minor": 2
}
